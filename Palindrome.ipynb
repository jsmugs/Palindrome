{
  "nbformat": 4,
  "nbformat_minor": 0,
  "metadata": {
    "colab": {
      "name": "Palindrome.ipynb",
      "provenance": [],
      "collapsed_sections": [],
      "authorship_tag": "ABX9TyPYwYd+fAbfu0Gv/8rvE55n"
    },
    "kernelspec": {
      "name": "python3",
      "display_name": "Python 3"
    },
    "language_info": {
      "name": "python"
    }
  },
  "cells": [
    {
      "cell_type": "code",
      "execution_count": 16,
      "metadata": {
        "colab": {
          "base_uri": "https://localhost:8080/"
        },
        "id": "y3qh7lc_QCMS",
        "outputId": "6f1cb4c9-4a89-487b-a43d-ad94f1723a0f"
      },
      "outputs": [
        {
          "output_type": "stream",
          "name": "stdout",
          "text": [
            "Abba is a palindrome\n"
          ]
        }
      ],
      "source": [
        "def palindrome(string):\n",
        "  lower_string = string.lower()\n",
        "  if lower_string == \"\".join(reversed(lower_string)):\n",
        "    return string + \" is a palindrome\"\n",
        "  else:\n",
        "    return string + \" is not a palindrome\"\n",
        "\n",
        "print(palindrome(\"Abba\"))"
      ]
    }
  ]
}